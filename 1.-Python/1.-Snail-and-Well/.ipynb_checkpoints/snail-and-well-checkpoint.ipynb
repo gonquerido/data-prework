{
 "cells": [
  {
   "cell_type": "markdown",
   "metadata": {},
   "source": [
    "<img src=\"https://bit.ly/2VnXWr2\" width=\"100\" align=\"left\">"
   ]
  },
  {
   "cell_type": "markdown",
   "metadata": {},
   "source": [
    "# The Snail and the Well\n",
    "\n",
    "A snail falls at the bottom of a 125 cm well. Each day the snail rises 30 cm. But at night, while sleeping, slides 20 cm because the walls are wet. How many days does it take for the snail to escape the well?\n",
    "\n",
    "**Hint**: The snail gets out of the well when it surpasses the 125cm of height.\n",
    "\n",
    "## Tools\n",
    "\n",
    "1. Loop: **while**\n",
    "2. Conditional statements: **if-else**\n",
    "3. Function: **print()**\n",
    "\n",
    "## Tasks\n",
    "\n",
    "#### 1. Assign the challenge data to variables with representative names: `well_height`, `daily_distance`, `nightly_distance` and `snail_position`."
   ]
  },
  {
   "cell_type": "code",
   "execution_count": 107,
   "metadata": {},
   "outputs": [],
   "source": [
    "well_height = 125\n",
    "daily_distance = 30\n",
    "nightly_distance = -20\n",
    "snail_position = 0"
   ]
  },
  {
   "cell_type": "markdown",
   "metadata": {},
   "source": [
    "#### 2. Create a variable `days` to keep count of the days that pass until the snail escapes the well. "
   ]
  },
  {
   "cell_type": "code",
   "execution_count": 108,
   "metadata": {},
   "outputs": [],
   "source": [
    "days = 0"
   ]
  },
  {
   "cell_type": "markdown",
   "metadata": {},
   "source": [
    "#### 3. Find the solution to the challenge using the variables defined above. "
   ]
  },
  {
   "cell_type": "code",
   "execution_count": 100,
   "metadata": {},
   "outputs": [
    {
     "name": "stdout",
     "output_type": "stream",
     "text": [
      "The Snail is on the way out!\n",
      "Still climbing, almost there!\n",
      "Still climbing, almost there!\n",
      "Still climbing, almost there!\n",
      "Still climbing, almost there!\n",
      "Still climbing, almost there!\n",
      "Still climbing, almost there!\n",
      "Still climbing, almost there!\n",
      "Still climbing, almost there!\n",
      "Still climbing, almost there!\n",
      "Still climbing, almost there!\n",
      "Still climbing, almost there!\n",
      "Still climbing, almost there!\n",
      "How many days? 11\n"
     ]
    }
   ],
   "source": [
    "print(\"The Snail is on the way out!\")\n",
    "snail_position += daily_distance + nightly_distance\n",
    "\n",
    "while snail_position <= well_height:\n",
    "    snail_position += daily_distance\n",
    "    snail_position += nightly_distance\n",
    "    print(\"Still climbing, almost there!\")\n",
    "            \n",
    "    if (snail_position <= well_height):\n",
    "        days += 1\n",
    "    else:\n",
    "        print(\"How many days?\", days)       "
   ]
  },
  {
   "cell_type": "markdown",
   "metadata": {},
   "source": [
    "#### 4. Print the solution."
   ]
  },
  {
   "cell_type": "code",
   "execution_count": 16,
   "metadata": {},
   "outputs": [
    {
     "name": "stdout",
     "output_type": "stream",
     "text": [
      "Hurray!The Snail is finally out!!! It tooked  11  days.\n"
     ]
    }
   ],
   "source": [
    "print(\"Hurray!The Snail is finally out!!! It tooked \", days, \" days.\")"
   ]
  },
  {
   "cell_type": "markdown",
   "metadata": {},
   "source": [
    "## Bonus\n",
    "The distance traveled by the snail each day is now defined by a list.\n",
    "```\n",
    "advance_cm = [30, 21, 33, 77, 44, 45, 23, 45, 12, 34, 55]\n",
    "```\n",
    "On the first day, the snail rises 30cm but during the night it slides 20cm. On the second day, the snail rises 21cm but during the night it slides 20cm, and so on. \n",
    "\n",
    "#### 1. How many days does it take for the snail to escape the well?\n",
    "Follow the same guidelines as in the previous challenge.\n",
    "\n",
    "**Hint**: Remember that the snail gets out of the well when it surpasses the 125cm of height."
   ]
  },
  {
   "cell_type": "code",
   "execution_count": 126,
   "metadata": {},
   "outputs": [
    {
     "name": "stdout",
     "output_type": "stream",
     "text": [
      "The Snail is on the way out!\n",
      "Still climbing, almost there!\n",
      "130 is already out\n",
      "130 is already out\n",
      "130 is already out\n",
      "130 is already out\n",
      "130 is already out\n",
      "Probably len(advance_cm) - days iterations, There you go in 6 days\n"
     ]
    }
   ],
   "source": [
    "well_height = 125\n",
    "daily_distance = 30\n",
    "nightly_distance = -20\n",
    "snail_position = 0\n",
    "days = 0\n",
    "advance_cm = [30, 21, 33, 77, 44, 45, 23, 45, 12, 34, 55]\n",
    "\n",
    "#once len(advance_cm) = 11 let's see how it runs\n",
    "\n",
    "print(\"The Snail is on the way out!\")\n",
    "\n",
    "while snail_position <= well_height:\n",
    "    \n",
    "    print(\"Still climbing, almost there!\")\n",
    "    for i in advance_cm:\n",
    "        if (snail_position <= well_height):\n",
    "            days += 1\n",
    "            daily_distance = i\n",
    "            snail_position += daily_distance\n",
    "            snail_position += nightly_distance\n",
    "        else: #can take that off\n",
    "            print(snail_position, \"is already out\")\n",
    "\n",
    "print(\"Probably len(advance_cm) - days iterations, There you go in\", days, \"days\")     \n"
   ]
  },
  {
   "cell_type": "markdown",
   "metadata": {},
   "source": [
    "#### 2. What is its maximum displacement in one day? And its minimum? Calculate the displacement using only the travel distance of the days used to get out of the well. \n",
    "**Hint**: Remember that displacement means the total distance risen taking into account that the snail slides at night.  "
   ]
  },
  {
   "cell_type": "code",
   "execution_count": 127,
   "metadata": {},
   "outputs": [
    {
     "name": "stdout",
     "output_type": "stream",
     "text": [
      "minimum displacement is 1 cm \n",
      "maximum displacement is 57 cm\n",
      "[-20, -20, -20, -20, -20, -20]\n",
      "1\n",
      "2\n",
      "3\n",
      "4\n",
      "5\n",
      "6\n",
      "[10, 1, 13, 57, 24, 25, 23, 45, 12, 34, 55]\n",
      "minimum displacement is 1 cm \n",
      "maximum displacement is 57 cm\n"
     ]
    }
   ],
   "source": [
    "#considering the 6 days to leave the well\n",
    "\n",
    "#in this case works that way\n",
    "maximum_displacement = max(advance_cm[:days]) + nightly_distance\n",
    "minimum_displacement = min(advance_cm[:days]) + nightly_distance\n",
    "\n",
    "print(\"minimum displacement is\", minimum_displacement, \"cm\", \"\\nmaximum displacement is\", maximum_displacement, \"cm\")\n",
    "\n",
    "\n",
    "#some tries to get where i need/want\n",
    "progress = [nightly_distance]*days\n",
    "print(progress)\n",
    "\n",
    "\n",
    "\n",
    "#here it is the solution\n",
    "advance_cm = [30, 21, 33, 77, 44, 45, 23, 45, 12, 34, 55]\n",
    "displacement = 0\n",
    "for i in advance_cm[:days]:\n",
    "    if i > 20:\n",
    "        advance_cm[displacement] += nightly_distance\n",
    "        displacement +=1\n",
    "        print(displacement) #this leave\n",
    "print(advance_cm)           #this line too\n",
    "\n",
    "maximum_displacement1 = max(advance_cm[:days])\n",
    "minimum_displacement1 = min(advance_cm[:days])\n",
    "print(\"minimum displacement is\", minimum_displacement1, \"cm\", \"\\nmaximum displacement is\", maximum_displacement1, \"cm\")\n"
   ]
  },
  {
   "cell_type": "markdown",
   "metadata": {},
   "source": [
    "#### 3. What is its average progress? Take into account the snail slides at night."
   ]
  },
  {
   "cell_type": "code",
   "execution_count": 128,
   "metadata": {},
   "outputs": [
    {
     "name": "stdout",
     "output_type": "stream",
     "text": [
      "21.666666666666668\n"
     ]
    }
   ],
   "source": [
    "average_progress = sum(advance_cm[:days])/len(advance_cm[:days])\n",
    "print(average_progress)"
   ]
  },
  {
   "cell_type": "markdown",
   "metadata": {},
   "source": [
    "#### 4. What is the standard deviation of its displacement? Take into account the snail slides at night."
   ]
  },
  {
   "cell_type": "code",
   "execution_count": 151,
   "metadata": {
    "scrolled": true
   },
   "outputs": [
    {
     "name": "stdout",
     "output_type": "stream",
     "text": [
      "The standard deviation of its displacement is 19.510680835549195\n"
     ]
    }
   ],
   "source": [
    "scoredev = advance_cm[:days]\n",
    "v = 0\n",
    "# checking what's happening print(stdev)\n",
    "for i in scoredev:\n",
    "    scoredev[v] -= average_progress\n",
    "    v += 1\n",
    "    \n",
    "# checking what's happening print(scoredev)\n",
    "\n",
    "s = 0\n",
    "for i in scoredev:\n",
    "    scoredev[s] **= 2\n",
    "    s += 1\n",
    "# checking what's happening print(scoredev)\n",
    "\n",
    "#as we are in a sample and not in a population we have n-1\n",
    "stdev = (sum(scoredev)/(days-1)) ** (1/2)\n",
    "\n",
    "print(\"The standard deviation of its displacement is\", stdev)"
   ]
  }
 ],
 "metadata": {
  "kernelspec": {
   "display_name": "Python 3",
   "language": "python",
   "name": "python3"
  },
  "language_info": {
   "codemirror_mode": {
    "name": "ipython",
    "version": 3
   },
   "file_extension": ".py",
   "mimetype": "text/x-python",
   "name": "python",
   "nbconvert_exporter": "python",
   "pygments_lexer": "ipython3",
   "version": "3.9.5"
  }
 },
 "nbformat": 4,
 "nbformat_minor": 2
}
