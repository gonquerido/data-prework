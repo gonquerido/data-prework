{
 "cells": [
  {
   "cell_type": "markdown",
   "metadata": {},
   "source": [
    "<img src=\"https://bit.ly/2VnXWr2\" width=\"100\" align=\"left\">"
   ]
  },
  {
   "cell_type": "markdown",
   "metadata": {},
   "source": [
    "# Bus\n",
    "\n",
    "This bus has a passenger entry and exit control system to monitor the number of occupants it carries and thus detect when there are too many.\n",
    "\n",
    "At each stop, the entry and exit of passengers is represented by a tuple consisting of two integer numbers.\n",
    "```\n",
    "bus_stop = (in, out)\n",
    "```\n",
    "The succession of stops is represented by a list of these tuples.\n",
    "```\n",
    "stops = [(in1, out1), (in2, out2), (in3, out3), (in4, out4)]\n",
    "```\n",
    "\n",
    "## Tools\n",
    "You don't necessarily need to use all the tools. Maybe you opt to use some of them or completely different ones, they are given to help you shape the exercise. Programming exercises can be solved in many different ways.\n",
    "* Data structures: **lists, tuples**\n",
    "* Loop: **while/for loops**\n",
    "* Functions: **min, max, len**\n",
    "\n",
    "## Tasks"
   ]
  },
  {
   "cell_type": "code",
   "execution_count": 111,
   "metadata": {},
   "outputs": [],
   "source": [
    "# Variables\n",
    "stops = [(10, 0), (4, 1), (3, 5), (3, 4), (5, 1), (1, 5), (5, 8), (4, 6), (2, 3)]"
   ]
  },
  {
   "cell_type": "markdown",
   "metadata": {},
   "source": [
    "#### 1. Calculate the number of stops."
   ]
  },
  {
   "cell_type": "code",
   "execution_count": 112,
   "metadata": {},
   "outputs": [
    {
     "data": {
      "text/plain": [
       "9"
      ]
     },
     "execution_count": 112,
     "metadata": {},
     "output_type": "execute_result"
    }
   ],
   "source": [
    "len(stops)"
   ]
  },
  {
   "cell_type": "markdown",
   "metadata": {},
   "source": [
    "#### 2. Assign to a variable a list whose elements are the number of passengers at each stop (in-out).\n",
    "Each item depends on the previous item in the list + in - out."
   ]
  },
  {
   "cell_type": "code",
   "execution_count": 113,
   "metadata": {},
   "outputs": [
    {
     "name": "stdout",
     "output_type": "stream",
     "text": [
      "10\n",
      "13\n",
      "11\n",
      "10\n",
      "14\n",
      "10\n",
      "7\n",
      "5\n",
      "4\n",
      "[10, 13, 11, 10, 14, 10, 7, 5, 4]\n"
     ]
    }
   ],
   "source": [
    "# passengers on the bus at each stop\n",
    "\n",
    "occupation_stops = []\n",
    "passg_in = 0\n",
    "passg_out = 0\n",
    "for i in stops:\n",
    "    #print(i)\n",
    "    passg_in += i[0]\n",
    "    #print(passg_in, \"enter\")\n",
    "    passg_out += i[1]\n",
    "    #print(passg_out, \"left\")\n",
    "    passengers_stop = passg_in - passg_out\n",
    "    print(passengers_stop)\n",
    "    occupation_stops.append(passengers_stop)\n",
    "print(occupation_stops)"
   ]
  },
  {
   "cell_type": "markdown",
   "metadata": {},
   "source": [
    "#### 3. Find the maximum occupation of the bus."
   ]
  },
  {
   "cell_type": "code",
   "execution_count": 114,
   "metadata": {},
   "outputs": [
    {
     "name": "stdout",
     "output_type": "stream",
     "text": [
      "At stop 5 there was maximum occupation of 14 passengers\n"
     ]
    }
   ],
   "source": [
    "max(occupation_stops)\n",
    "\n",
    "#my own bonus\n",
    "for i in range(len(occupation_stops)):\n",
    "    if occupation_stops[i] == max(occupation_stops):\n",
    "        #print(i)\n",
    "        break\n",
    "print(\"At stop\", i + 1, \"there was maximum occupation of\", max(occupation_stops), \"passengers\")"
   ]
  },
  {
   "cell_type": "markdown",
   "metadata": {},
   "source": [
    "#### 4. Calculate the average occupation. And the standard deviation."
   ]
  },
  {
   "cell_type": "code",
   "execution_count": 115,
   "metadata": {},
   "outputs": [
    {
     "name": "stdout",
     "output_type": "stream",
     "text": [
      "The average occupation is 9.333333333333334\n",
      "3.391164991562634 is the standard deviation\n"
     ]
    }
   ],
   "source": [
    "#average occupation\n",
    "average_occupation = sum(occupation_stops)/len(occupation_stops)\n",
    "print(\"The average occupation is\", average_occupation)\n",
    "\n",
    "#standard deviation\n",
    "scoredev_stops = occupation_stops\n",
    "for i in range(len(occupation_stops)):\n",
    "    scoredev_stops[i] -= average_occupation\n",
    "\n",
    "#print(scoredev_stops)\n",
    "\n",
    "for i in range(len(scoredev_stops)):\n",
    "    scoredev_stops[i] **= 2\n",
    "#print(scoredev_stops)\n",
    "\n",
    "stdev_occupation = (sum(scoredev_stops)/(len(scoredev_stops) - 1)) ** (1/2)\n",
    "print(stdev_occupation, \"is the standard deviation\")"
   ]
  }
 ],
 "metadata": {
  "kernelspec": {
   "display_name": "Python 3",
   "language": "python",
   "name": "python3"
  },
  "language_info": {
   "codemirror_mode": {
    "name": "ipython",
    "version": 3
   },
   "file_extension": ".py",
   "mimetype": "text/x-python",
   "name": "python",
   "nbconvert_exporter": "python",
   "pygments_lexer": "ipython3",
   "version": "3.9.5"
  }
 },
 "nbformat": 4,
 "nbformat_minor": 2
}
