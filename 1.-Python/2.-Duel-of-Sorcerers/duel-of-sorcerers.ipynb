{
 "cells": [
  {
   "cell_type": "markdown",
   "metadata": {},
   "source": [
    "<img src=\"https://bit.ly/2VnXWr2\" width=\"100\" align=\"left\">"
   ]
  },
  {
   "cell_type": "markdown",
   "metadata": {},
   "source": [
    "# Duel of Sorcerers\n",
    "You are witnessing an epic battle between two powerful sorcerers: Gandalf and Saruman. Each sorcerer has 10 spells of variable power in their mind and they are going to throw them one after the other. The winner of the duel will be the one who wins more of those clashes between spells. Spells are represented as a list of 10 integers whose value equals the power of the spell.\n",
    "```\n",
    "gandalf = [10, 11, 13, 30, 22, 11, 10, 33, 22, 22]\n",
    "saruman = [23, 66, 12, 43, 12, 10, 44, 23, 12, 17]\n",
    "```\n",
    "For example:\n",
    "- The first clash is won by Saruman: 10 against 23.\n",
    "- The second clash is won by Saruman: 11 against 66.\n",
    "- ...\n",
    "\n",
    "You will create two variables, one for each sorcerer, where the sum of clashes won will be stored. Depending on which variable is greater at the end of the duel, you will show one of the following three results on the screen:\n",
    "* Gandalf wins\n",
    "* Saruman wins\n",
    "* Tie\n",
    "\n",
    "<img src=\"images/content_lightning_bolt_big.jpg\" width=\"400\">"
   ]
  },
  {
   "cell_type": "markdown",
   "metadata": {},
   "source": [
    "## Tools\n",
    "You don't necessarily need to use all the tools. Maybe you opt to use some of them or completely different ones, they are given to help you shape the exercise. Programming exercises can be solved in many different ways.\n",
    "\n",
    "1. Data structures: **lists, dictionaries**\n",
    "2. Loop: **for loop**\n",
    "3. Conditional statements: **if-elif-else**\n",
    "4. Functions: **range(), len(), print()**\n",
    "\n",
    "## Tasks\n",
    "\n",
    "#### 1. Create two variables called `gandalf` and `saruman` and assign them the spell power lists. Create a variable called `spells` to store the number of spells that the sorcerers cast. "
   ]
  },
  {
   "cell_type": "code",
   "execution_count": 25,
   "metadata": {},
   "outputs": [
    {
     "name": "stdout",
     "output_type": "stream",
     "text": [
      "20\n"
     ]
    }
   ],
   "source": [
    "gandalf = [10, 11, 13, 30, 22, 11, 10, 33, 22, 22]\n",
    "saruman = [23, 66, 12, 43, 12, 10, 44, 23, 12, 17]\n",
    "\n",
    "spells = len(gandalf) + len(saruman)\n",
    "print(spells)"
   ]
  },
  {
   "cell_type": "markdown",
   "metadata": {},
   "source": [
    "#### 2. Create two variables called `gandalf_wins` and `saruman_wins`. Set both of them to 0. \n",
    "You will use these variables to count the number of clashes each sorcerer wins. "
   ]
  },
  {
   "cell_type": "code",
   "execution_count": 26,
   "metadata": {},
   "outputs": [],
   "source": [
    "gandalf_wins = 0\n",
    "saruman_wins = 0"
   ]
  },
  {
   "cell_type": "markdown",
   "metadata": {},
   "source": [
    "#### 3. Using the lists of spells of both sorcerers, update variables `gandalf_wins` and `saruman_wins` to count the number of times each sorcerer wins a clash. "
   ]
  },
  {
   "cell_type": "code",
   "execution_count": 29,
   "metadata": {},
   "outputs": [],
   "source": [
    "clash = 0\n",
    "for i in gandalf:\n",
    "    sorcerers_clash = gandalf[clash] - saruman[clash]\n",
    "    if sorcerers_clash > 0:\n",
    "        gandalf_wins += 1\n",
    "    elif sorcerers_clash < 0:\n",
    "        saruman_wins += 1\n",
    "    \n",
    "    clash += 1"
   ]
  },
  {
   "cell_type": "markdown",
   "metadata": {},
   "source": [
    "#### 4. Who won the battle?\n",
    "Print `Gandalf wins`, `Saruman wins` or `Tie` depending on the result. "
   ]
  },
  {
   "cell_type": "code",
   "execution_count": 28,
   "metadata": {},
   "outputs": [
    {
     "name": "stdout",
     "output_type": "stream",
     "text": [
      "Gandalf wins\n"
     ]
    }
   ],
   "source": [
    "if gandalf_wins > saruman_wins:\n",
    "    print(\"Gandalf wins\")\n",
    "elif gandalf_wins < saruman_wins:\n",
    "    print(\"Saruman wins\")\n",
    "else:\n",
    "    print(\"It´s a Tie\")"
   ]
  },
  {
   "cell_type": "markdown",
   "metadata": {},
   "source": [
    "## Bonus\n",
    "\n",
    "In this bonus challenge, you'll need to check the winner of the battle but this time, a sorcerer wins if he succeeds in winning 3 spell clashes in a row.\n",
    "\n",
    "Also, the spells now have a name and there is a dictionary that associates that name to a power.\n",
    "\n",
    "```\n",
    "POWER = {\n",
    "    'Fireball': 50, \n",
    "    'Lightning bolt': 40, \n",
    "    'Magic arrow': 10, \n",
    "    'Black Tentacles': 25, \n",
    "    'Contagion': 45\n",
    "}\n",
    "\n",
    "gandalf = ['Fireball', 'Lightning bolt', 'Lightning bolt', 'Magic arrow', 'Fireball', \n",
    "           'Magic arrow', 'Lightning bolt', 'Fireball', 'Fireball', 'Fireball']\n",
    "saruman = ['Contagion', 'Contagion', 'Black Tentacles', 'Fireball', 'Black Tentacles', \n",
    "           'Lightning bolt', 'Magic arrow', 'Contagion', 'Magic arrow', 'Magic arrow']\n",
    "```\n",
    "\n",
    "#### 1. Create variables `POWER`, `gandalf` and `saruman` as seen above. Create a variable called `spells` to store the number of spells that the sorcerers cast. "
   ]
  },
  {
   "cell_type": "code",
   "execution_count": 98,
   "metadata": {},
   "outputs": [],
   "source": [
    "POWER = {\n",
    "    'Fireball': 50, \n",
    "    'Lightning bolt': 40, \n",
    "    'Magic arrow': 10, \n",
    "    'Black Tentacles': 25, \n",
    "    'Contagion': 45\n",
    "}\n",
    "\n",
    "gandalf = ['Fireball', 'Lightning bolt', 'Lightning bolt', 'Magic arrow', 'Fireball', \n",
    "           'Magic arrow', 'Lightning bolt', 'Fireball', 'Fireball', 'Fireball']\n",
    "saruman = ['Contagion', 'Contagion', 'Black Tentacles', 'Fireball', 'Black Tentacles', \n",
    "           'Lightning bolt', 'Magic arrow', 'Contagion', 'Magic arrow', 'Magic arrow']\n",
    "\n",
    "spells = len(gandalf) + len(saruman)"
   ]
  },
  {
   "cell_type": "markdown",
   "metadata": {},
   "source": [
    "#### 2. Create two variables called `gandalf_wins` and `saruman_wins`. Set both of them to 0. "
   ]
  },
  {
   "cell_type": "code",
   "execution_count": 107,
   "metadata": {},
   "outputs": [],
   "source": [
    "gandalf_wins = 0\n",
    "saruman_wins = 0"
   ]
  },
  {
   "cell_type": "markdown",
   "metadata": {},
   "source": [
    "#### 3. Create two variables called `gandalf_power` and `saruman_power` to store the list of spell powers of each sorcerer."
   ]
  },
  {
   "cell_type": "code",
   "execution_count": 151,
   "metadata": {},
   "outputs": [
    {
     "name": "stdout",
     "output_type": "stream",
     "text": [
      "[50, 40, 40, 10, 50, 10, 40, 50, 50, 50]\n",
      "[45, 45, 25, 50, 25, 40, 10, 45, 10, 10]\n"
     ]
    }
   ],
   "source": [
    "gandalf_power = []\n",
    "for i in gandalf:\n",
    "    gandalf_power.append(POWER[i])\n",
    "\n",
    "saruman_power = []    \n",
    "for i in saruman:\n",
    "    saruman_power.append(POWER[i])\n",
    "    \n",
    "print(gandalf_power)\n",
    "print(saruman_power)"
   ]
  },
  {
   "cell_type": "markdown",
   "metadata": {},
   "source": [
    "#### 4. The battle starts! Using the variables you've created above, code the execution of spell clashes. Remember that a sorcerer wins if he succeeds in winning 3 spell clashes in a row. \n",
    "If a clash ends up in a tie, the counter of wins in a row is not restarted to 0. Remember to print who is the winner of the battle. "
   ]
  },
  {
   "cell_type": "code",
   "execution_count": 174,
   "metadata": {},
   "outputs": [
    {
     "name": "stdout",
     "output_type": "stream",
     "text": [
      "1 Clash\n",
      "we know nothing... keep on\n",
      "2 Clash\n",
      "We have a tie... let's start again\n",
      "3 Clash\n",
      "we know nothing... keep on\n",
      "4 Clash\n",
      "We have a tie... let's start again\n",
      "5 Clash\n",
      "we know nothing... keep on\n",
      "6 Clash\n",
      "We have a tie... let's start again\n",
      "7 Clash\n",
      "we know nothing... keep on\n",
      "8 Clash\n",
      "we know nothing... keep on\n",
      "9 Clash\n",
      "We have a winner... He is Gandalf\n"
     ]
    }
   ],
   "source": [
    "gandalf_wins = 0\n",
    "saruman_wins = 0\n",
    "gandalf_score = 0\n",
    "saruman_score = 0\n",
    "  \n",
    "for i in range(len(gandalf_power)):\n",
    "    print(i + 1, \"Clash\")\n",
    "    sorcerers_clash = gandalf_power[i] - saruman_power[i]\n",
    "    if (sorcerers_clash > 0):\n",
    "        gandalf_wins = 1\n",
    "        saruman_wins = 0\n",
    "        gandalf_score += gandalf_wins\n",
    "        saruman_score += saruman_wins\n",
    "        #just checking#just checking  print(gandalf_score)\n",
    "        #just checking print(saruman_score)\n",
    "    elif (sorcerers_clash < 0):\n",
    "        gandalf_wins = 0\n",
    "        saruman_wins = 1\n",
    "        gandalf_score += gandalf_wins\n",
    "        saruman_score += saruman_wins\n",
    "        #just checking print(gandalf_score)\n",
    "        #just checking print(saruman_score)\n",
    "    else:\n",
    "        print(\"It´s a tie keep going\")\n",
    "\n",
    "    if (gandalf_score >= (saruman_score + 3)):\n",
    "        #just checking print(gandalf_score)\n",
    "        #just checking print(saruman_score)\n",
    "        print(\"We have a winner... He is Gandalf\")\n",
    "        break\n",
    "    elif (saruman_score >= (gandalf_score + 3)):\n",
    "        #just checking print(gandalf_score)\n",
    "        #just checking print(saruman_score)\n",
    "        print(\"We have a winner... He is Saruman\")\n",
    "        break\n",
    "    elif (gandalf_score == saruman_score):\n",
    "        #just checking print(gandalf_score, \"we are here\")\n",
    "        #just checking print(saruman_score, \"thanks\")\n",
    "        print(\"We have a tie... let's start again\")\n",
    "    else:\n",
    "        print(\"we know nothing... keep on\")"
   ]
  },
  {
   "cell_type": "markdown",
   "metadata": {},
   "source": [
    "#### 5. Find the average spell power of Gandalf and Saruman. "
   ]
  },
  {
   "cell_type": "code",
   "execution_count": 179,
   "metadata": {},
   "outputs": [
    {
     "name": "stdout",
     "output_type": "stream",
     "text": [
      "69.5\n",
      "71.875\n"
     ]
    }
   ],
   "source": [
    "#average spell power in total executions\n",
    "\n",
    "average_totalspellpower = (sum(gandalf_power[:len(gandalf_power)]) + sum(saruman_power[:len(saruman_power)]))/len(saruman_power[:(len(saruman_power))])\n",
    "print(average_totalspellpower)\n",
    "\n",
    "\n",
    "#average spell power casteds\n",
    "\n",
    "average_castspellpower = (sum(gandalf_power[:i]) + sum(saruman_power[:i]))/len(saruman_power[:i])\n",
    "print(average_castspellpower)"
   ]
  },
  {
   "cell_type": "markdown",
   "metadata": {},
   "source": [
    "#### 6. Find the standard deviation of the spell power of Gandalf and Saruman. "
   ]
  },
  {
   "cell_type": "code",
   "execution_count": 181,
   "metadata": {},
   "outputs": [
    {
     "name": "stdout",
     "output_type": "stream",
     "text": [
      "The standard deviation of their powers is 17.309228030157787\n"
     ]
    }
   ],
   "source": [
    "powerdev = []\n",
    "\n",
    "for p in range(len(gandalf_power[:i])):\n",
    "    sorcerers_power = gandalf_power[p] + saruman_power[p]\n",
    "    powerdev.append(sorcerers_power)\n",
    "#print(powerdev)\n",
    "\n",
    "for m in range(len(gandalf_power[:i])):\n",
    "    powerdev[m] -= average_castspellpower\n",
    "#print(powerdev)\n",
    "\n",
    "for s in range(len(gandalf_power[:i])):\n",
    "    powerdev[s] **= 2\n",
    "#print(powerdev)\n",
    "# n-1 = 9 -1 = i\n",
    "power_stdev = (sum(powerdev)/(i)) ** (1/2)\n",
    "\n",
    "print(\"The standard deviation of their powers is\", power_stdev)"
   ]
  }
 ],
 "metadata": {
  "kernelspec": {
   "display_name": "Python 3",
   "language": "python",
   "name": "python3"
  },
  "language_info": {
   "codemirror_mode": {
    "name": "ipython",
    "version": 3
   },
   "file_extension": ".py",
   "mimetype": "text/x-python",
   "name": "python",
   "nbconvert_exporter": "python",
   "pygments_lexer": "ipython3",
   "version": "3.9.5"
  }
 },
 "nbformat": 4,
 "nbformat_minor": 2
}
