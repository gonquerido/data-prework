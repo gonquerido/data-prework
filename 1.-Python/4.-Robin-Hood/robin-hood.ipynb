{
 "cells": [
  {
   "cell_type": "markdown",
   "metadata": {},
   "source": [
    "<img src=\"https://bit.ly/2VnXWr2\" width=\"100\" align=\"left\"/>"
   ]
  },
  {
   "cell_type": "markdown",
   "metadata": {},
   "source": [
    "# Robin Hood\n",
    "Robin Hood has entered a competition to win the archery contest in Sherwood. With his bow and arrows, he needs to shoot on a target and try to hit as close as possible to the center.\n",
    "\n",
    "![](images/arrows.jpg)\n",
    "\n",
    "## Context\n",
    "In this challenge, the landing position of arrows shot by archers in the competition will be represented using 2-dimensional coordinates. \n",
    "\n",
    "In the 2-dimensional space, a point can be defined by a pair of values that correspond to the horizontal coordinate (x) and the vertical coordinate (y). For example, in our case, an arrow that hits the center of the archery target will land in position (0, 0) on the coordinate axes. \n",
    "\n",
    "The space can be divided into 4 zones (quadrants): Q1, Q2, Q3, Q4. If a point is in Q1, both its x coordinate and y coordinate are positive. Any point with a null x or y coordinate is considered to not belong to any quadrant. \n",
    "\n",
    "If you want to know more about the cartesian coordinate system, you can check this [link](https://en.wikipedia.org/wiki/Cartesian_coordinate_system). \n",
    "\n",
    "## Tools\n",
    "You don't necessarily need to use all the tools. Maybe you opt to use some of them or completely different ones, they are given to help you shape the exercise. Programming exercises can be solved in many different ways.\n",
    "* Data structures: **lists, sets, tuples**\n",
    "* Conditional statements: **if-elif-else**\n",
    "* Loop: **while/for**\n",
    "* Minimum (optional sorting)\n",
    "\n",
    "## Tasks\n",
    "Robin Hood has hit the following points:"
   ]
  },
  {
   "cell_type": "code",
   "execution_count": 267,
   "metadata": {},
   "outputs": [],
   "source": [
    "points = [(4, 5), (-0, 2), (4, 7), (1, -3), (3, -2), (4, 5), (3, 2), (5, 7), (-5, 7), (2, 2), (-4, 5), (0, -2),\n",
    "          (-4, 7), (-1, 3), (-3, 2), (-4, -5), (-3, 2), (5, 7), (5, 7), (2, 2), (9, 9), (-8, -9)]"
   ]
  },
  {
   "cell_type": "markdown",
   "metadata": {},
   "source": [
    "#### 1. Robin Hood is famous for hitting an arrow with another arrow. Find the coordinates of the points where an arrow hits another arrow."
   ]
  },
  {
   "cell_type": "code",
   "execution_count": 268,
   "metadata": {
    "scrolled": true
   },
   "outputs": [
    {
     "name": "stdout",
     "output_type": "stream",
     "text": [
      "An Arrow hits another one in these {(-3, 2), (4, 5), (5, 7), (2, 2)} points\n"
     ]
    }
   ],
   "source": [
    "arrow = []\n",
    "arrow_hits_arrow = []\n",
    "#print(position)\n",
    "#print(range(len(points)))\n",
    "for i in range(len(points)):\n",
    "    a = 0\n",
    "    arrow = points[i]\n",
    "    #print(\"a\", arrow)\n",
    "    for i in points:\n",
    "        #print(i, \"positions to check\")\n",
    "        if (i == arrow):\n",
    "            #print(\"there are more?\")\n",
    "            a += 1\n",
    "            #print(a)\n",
    "            if(a > 1):\n",
    "                arrow_hits_arrow.append(arrow)\n",
    "                #print(\"Arrow\", arrow, \"was hit by another one\", \"there are\", a, \"arrows in the same spot\")\n",
    "print(\"An Arrow hits another one in these\", set(arrow_hits_arrow), \"points\")"
   ]
  },
  {
   "cell_type": "markdown",
   "metadata": {},
   "source": [
    "#### 2. Calculate how many arrows have fallen in each quadrant. \n",
    "**Note**: the arrows that fall in the axis (x=0 or y=0) don't belong to any quadrant."
   ]
  },
  {
   "cell_type": "code",
   "execution_count": 269,
   "metadata": {},
   "outputs": [
    {
     "name": "stdout",
     "output_type": "stream",
     "text": [
      "There are 10 arrows landing on 1st Quadrant\n",
      "There are 6 arrows landing on 2nd Quadrant\n",
      "There are 2 arrows landing on 3rd Quadrant\n",
      "There are 2 arrows landing on 4th Quadrant\n",
      "There are 2 arrows falling on the axis\n"
     ]
    }
   ],
   "source": [
    "x = []\n",
    "y = []\n",
    "first_quad = []\n",
    "second_quad = []\n",
    "third_quad = []\n",
    "fourth_quad = []\n",
    "on_axis = []\n",
    "for i in range(len(points)):\n",
    "    x.append(points[i][0])\n",
    "    y.append(points[i][1])\n",
    "#print(x, \"x\")\n",
    "#print(y, \"y\")\n",
    "for i in range(len(x)):\n",
    "    #print(i, \"iteração\")\n",
    "    if(x[i] > 0) & (y[i] > 0):\n",
    "        #print(points[i], \"pertence ao 1o Quadarante\")\n",
    "        first_quad.append(points[i])\n",
    "    elif(x[i] < 0) & (y[i] > 0):\n",
    "        #print(points[i], \"pertence ao 2o Quadarante\")\n",
    "        second_quad.append(points[i])\n",
    "    elif(x[i] < 0) & (y[i] < 0):\n",
    "        #print(points[i], \"pertence ao 3o Quadarante\")\n",
    "        third_quad.append(points[i])\n",
    "    elif(x[i] > 0) & (y[i] < 0):\n",
    "        #print(points[i], \"pertence ao 4o Quadarante\")\n",
    "        fourth_quad.append(points[i])\n",
    "    else:\n",
    "        on_axis.append(points[i])\n",
    "        #print(points[i], \"Isn't more points falling on the axis!?\")\n",
    "print(\"There are\", len(first_quad), \"arrows landing on 1st Quadrant\")\n",
    "print(\"There are\", len(second_quad), \"arrows landing on 2nd Quadrant\")\n",
    "print(\"There are\", len(third_quad), \"arrows landing on 3rd Quadrant\")\n",
    "print(\"There are\", len(fourth_quad), \"arrows landing on 4th Quadrant\")\n",
    "print(\"There are\", len(on_axis), \"arrows falling on the axis\")\n"
   ]
  },
  {
   "cell_type": "markdown",
   "metadata": {},
   "source": [
    "#### 3. Find the point closest to the center. Calculate its distance to the center. \n",
    "Take into account that there might be more than one point at the minimum distance to the center.\n",
    "\n",
    "**Hint**: Use the Euclidean distance. You can find more information about it [here](https://en.wikipedia.org/wiki/Euclidean_distance).  \n",
    "**Hint**: Defining a function that calculates the distance to the center can help."
   ]
  },
  {
   "cell_type": "code",
   "execution_count": 274,
   "metadata": {},
   "outputs": [
    {
     "name": "stdout",
     "output_type": "stream",
     "text": [
      "4 5\n",
      "[] mesmo!\n",
      "[4, 5] é\n",
      "[] it's the closest point to the center 1\n",
      "0 2\n",
      "[] mesmo!\n",
      "[0, 2] é\n",
      "[] it's the closest point to the center 1\n",
      "4 7\n",
      "[] mesmo!\n",
      "[4, 7] é\n",
      "[] it's the closest point to the center 1\n",
      "1 -3\n",
      "[] mesmo!\n",
      "[1, -3] é\n",
      "[] it's the closest point to the center 1\n",
      "3 -2\n",
      "[] mesmo!\n",
      "[3, -2] é\n",
      "[] it's the closest point to the center 1\n",
      "4 5\n",
      "[] mesmo!\n",
      "[4, 5] é\n",
      "[] it's the closest point to the center 1\n",
      "3 2\n",
      "[] mesmo!\n",
      "[3, 2] é\n",
      "[] it's the closest point to the center 1\n",
      "5 7\n",
      "[] mesmo!\n",
      "[5, 7] é\n",
      "[] it's the closest point to the center 1\n",
      "-5 7\n",
      "[] mesmo!\n",
      "[-5, 7] é\n",
      "[] it's the closest point to the center 1\n",
      "2 2\n",
      "[] mesmo!\n",
      "[2, 2] é\n",
      "[] it's the closest point to the center 1\n",
      "-4 5\n",
      "[] mesmo!\n",
      "[-4, 5] é\n",
      "[] it's the closest point to the center 1\n",
      "0 -2\n",
      "[] mesmo!\n",
      "[0, -2] é\n",
      "[] it's the closest point to the center 1\n",
      "-4 7\n",
      "[] mesmo!\n",
      "[-4, 7] é\n",
      "[] it's the closest point to the center 1\n",
      "-1 3\n",
      "[] mesmo!\n",
      "[-1, 3] é\n",
      "[] it's the closest point to the center 1\n",
      "-3 2\n",
      "[] mesmo!\n",
      "[-3, 2] é\n",
      "[] it's the closest point to the center 1\n",
      "-4 -5\n",
      "[] mesmo!\n",
      "[-4, -5] é\n",
      "[] it's the closest point to the center 1\n",
      "-3 2\n",
      "[] mesmo!\n",
      "[-3, 2] é\n",
      "[] it's the closest point to the center 1\n",
      "5 7\n",
      "[] mesmo!\n",
      "[5, 7] é\n",
      "[] it's the closest point to the center 1\n",
      "5 7\n",
      "[] mesmo!\n",
      "[5, 7] é\n",
      "[] it's the closest point to the center 1\n",
      "2 2\n",
      "[] mesmo!\n",
      "[2, 2] é\n",
      "[] it's the closest point to the center 1\n",
      "9 9\n",
      "[] mesmo!\n",
      "[9, 9] é\n",
      "[] it's the closest point to the center 1\n",
      "-8 -9\n",
      "[] mesmo!\n",
      "[-8, -9] é\n",
      "[] it's the closest point to the center 1\n"
     ]
    }
   ],
   "source": [
    "x_bull = 0\n",
    "y_bull = 0\n",
    "euc_dist_center = []\n",
    "closest_distance = []\n",
    "closest_point = []\n",
    "for i in range(len(points)):\n",
    "    #print(i)\n",
    "    print(x[i],y[i])\n",
    "    euc_dist = (((x_bull - x[i]) ** 2) + ((y_bull + y[i]) ** 2)) ** (1/2)\n",
    "    #print(euc_dist)\n",
    "    euc_dist_center.append(euc_dist)\n",
    "    #print(euc_dist_center)\n",
    "    closest_distance = min(euc_dist_center)\n",
    "    #print(closest_distance)\n",
    "    #print(points[i])\n",
    "    #print(closest_point, \"será?\")\n",
    "    print(closest_point, \"mesmo!\")\n",
    "    print(list(points[i]), \"é\")\n",
    "    if(closest_point < list(points[i])):\n",
    "        \n",
    "        print(closest_point, \"it's the closest point to the center 1\")\n",
    "    elif(closest_point > list(points[i])):\n",
    "        closest_point = list(points[i])\n",
    "        print(closest_point, \"it's the closest point to the center 2\")\n",
    "    else:\n",
    "        print(closest_point, \"it's the closest point to the center 3\")\n",
    "    \"\"\"else:\n",
    "        print(\"Bullseye\", points[i], \"hit the spot\")\"\"\""
   ]
  },
  {
   "cell_type": "markdown",
   "metadata": {},
   "source": [
    "#### 4. If the archery target has a radius of 9, calculate the number of arrows that won't hit the target. \n",
    "**Hint**: Use the function created in step 3. "
   ]
  },
  {
   "cell_type": "code",
   "execution_count": 281,
   "metadata": {},
   "outputs": [
    {
     "name": "stdout",
     "output_type": "stream",
     "text": [
      "There would be 2 arrows missing the target\n",
      "[6.4031242374328485, 2.0, 8.06225774829855, 3.1622776601683795, 3.605551275463989, 6.4031242374328485, 3.605551275463989, 8.602325267042627, 8.602325267042627, 2.8284271247461903, 6.4031242374328485, 2.0, 8.06225774829855, 3.1622776601683795, 3.605551275463989, 6.4031242374328485, 3.605551275463989, 8.602325267042627, 8.602325267042627, 2.8284271247461903]\n",
      "[12.727922061357855, 12.041594578792296]\n"
     ]
    }
   ],
   "source": [
    "arrows_target = []\n",
    "arrows_missed = []\n",
    "for i in euc_dist_center:\n",
    "    if (i <= 9):\n",
    "        arrows_target.append(i)\n",
    "    else:\n",
    "        arrows_missed.append(i)\n",
    "print(\"There would be\", len(arrows_missed), \"arrows missing the target\")\n",
    "\n",
    "#print(arrows_target)\n",
    "#print(arrows_missed)"
   ]
  }
 ],
 "metadata": {
  "kernelspec": {
   "display_name": "Python 3",
   "language": "python",
   "name": "python3"
  },
  "language_info": {
   "codemirror_mode": {
    "name": "ipython",
    "version": 3
   },
   "file_extension": ".py",
   "mimetype": "text/x-python",
   "name": "python",
   "nbconvert_exporter": "python",
   "pygments_lexer": "ipython3",
   "version": "3.9.5"
  }
 },
 "nbformat": 4,
 "nbformat_minor": 2
}
